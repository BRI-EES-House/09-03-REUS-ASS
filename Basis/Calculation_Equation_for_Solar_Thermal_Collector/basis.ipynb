{
 "cells": [
  {
   "cell_type": "markdown",
   "metadata": {},
   "source": [
    "# 空気集熱式ソーラーシステム"
   ]
  },
  {
   "cell_type": "markdown",
   "metadata": {},
   "source": [
    "## 1. 熱バランス式に基づく集熱器の出口における空気温度の算定式の導出"
   ]
  },
  {
   "cell_type": "markdown",
   "metadata": {},
   "source": [
    "![fig1.png](fig1.png)"
   ]
  },
  {
   "cell_type": "markdown",
   "metadata": {},
   "source": [
    "集熱体の熱媒流路側の表面、断熱材の熱媒流路側の表面における熱バランス式は、定常状態を仮定すれば式（1）および式（2）により表される。ただし、放射による熱伝達を無視する。"
   ]
  },
  {
   "cell_type": "markdown",
   "metadata": {},
   "source": [
    "* 集熱体の熱媒流路側の表面："
   ]
  },
  {
   "cell_type": "markdown",
   "metadata": {},
   "source": [
    "$$\n",
    "\\begin{align*}\n",
    "    \\displaystyle \\frac{1}{R_{s,u}} \\times \\left( \\theta_{a,u} - \\theta_{s,u} \\right) + \\tau \\alpha I_{s} + \\frac{1}{R_{a,u}} \\times \\left( \\theta_{f} - \\theta_{s,u} \\right) = 0\n",
    "\\end{align*}\n",
    "$$\n",
    "<div style=\"text-align: right;\"> (1) </div>"
   ]
  },
  {
   "cell_type": "markdown",
   "metadata": {},
   "source": [
    "* 断熱材の熱媒流路側の表面： "
   ]
  },
  {
   "cell_type": "markdown",
   "metadata": {},
   "source": [
    "$$\n",
    "\\begin{align*}\n",
    "    \\displaystyle \\frac{1}{R_{a,d}} \\times \\left( \\theta_{f} - \\theta_{s,d} \\right) + \\frac{1}{R_{s,d}} \\times \\left( \\theta_{a,d} - \\theta_{s,d} \\right) = 0\n",
    "\\end{align*}\n",
    "$$\n",
    "<div style=\"text-align: right;\"> (2) </div>"
   ]
  },
  {
   "cell_type": "markdown",
   "metadata": {},
   "source": [
    "ここで、  \n",
    "\n",
    "$I_{s}$：集熱面日射強度（透過体に入射する日射量）[W/m<sup>2</sup>]  \n",
    "$R_{a,d}$：断熱材の熱媒流路側の表面-集熱媒体の間の熱伝達抵抗 [(m<sup>2</sup>・K)/W]  \n",
    "$R_{a,u}$：集熱体の熱媒流路側の表面-集熱媒体の間の熱伝達抵抗 [(m<sup>2</sup>・K)/W]  \n",
    "$R_{s,d}$：断熱材の熱媒流路側の表面-集熱器裏面の周囲空間の間の熱貫流抵抗 [(m<sup>2</sup>・K)/W]  \n",
    "$R_{s,u}$：集熱体の熱媒流路側の表面-集熱器上面の周囲空間の間の熱貫流抵抗 [(m<sup>2</sup>・K)/W]  \n",
    "$\\alpha$：集熱体の日射吸収率 [-]  \n",
    "$\\theta_{a,d}$：集熱器裏面の周囲温度 [℃]  \n",
    "$\\theta_{a,u}$：集熱器上面の周囲温度 [℃]  \n",
    "$\\theta_{s,d}$：断熱材の熱媒流路側の表面温度 [℃]  \n",
    "$\\theta_{s,u}$：集熱体の熱媒流路側の表面温度 [℃]  \n",
    "$\\theta_{f}$：熱媒媒体の温度 [℃]  \n",
    "$\\tau$：透過体の日射透過率 [-]   \n",
    "\n",
    "である。"
   ]
  },
  {
   "cell_type": "markdown",
   "metadata": {},
   "source": [
    "熱媒流路上の微小区間$\\Delta x$における熱バランス式は、式（3）により表される。"
   ]
  },
  {
   "cell_type": "markdown",
   "metadata": {},
   "source": [
    "* 熱媒流路：  "
   ]
  },
  {
   "cell_type": "markdown",
   "metadata": {},
   "source": [
    "$$\n",
    "\\begin{align*}\n",
    "    \\displaystyle \\frac{1}{R_{a,u}} \\times \\left( \\theta_{s,u} - \\theta_{f} \\right) + \\frac{1}{R_{a,d}} \\times \\left( \\theta_{s,d} - \\theta_{f} \\right) + \\frac{1}{\\Delta x l_{w}} c \\rho V \\left( \\theta_{f, \\left( x - \\Delta x \\right)} - \\theta_{f, \\left( x \\right)} \\right)\n",
    "= 0\n",
    "\\end{align*}\n",
    "$$\n",
    "<div style=\"text-align: right;\"> (3) </div>"
   ]
  },
  {
   "cell_type": "markdown",
   "metadata": {},
   "source": [
    "ここで、  \n",
    "\n",
    "$c$：空気の比熱 [J/(g・K)]  \n",
    "$l_{W}$：集熱器の幅 [m]  \n",
    "$R_{a,d}$：断熱材の熱媒流路側の表面-集熱媒体の間の熱伝達抵抗 [(m<sup>2</sup>・K)/W]  \n",
    "$R_{a,u}$：集熱体の熱媒流路側の表面-集熱媒体の間の熱伝達抵抗 [(m<sup>2</sup>・K)/W]  \n",
    "$V$：集熱媒体の流量 [m<sup>3</sup>/s]  \n",
    "$\\Delta x$：熱媒流路上の微小区間 [m]  \n",
    "$\\rho$：空気の密度 [g/m<sup>3</sup>]  \n",
    "$\\theta_{s,d}$：断熱材の熱媒流路側の表面温度 [℃]  \n",
    "$\\theta_{s,u}$：集熱体の熱媒流路側の表面温度 [℃]  \n",
    "$\\theta_{f}$：熱媒流体の温度 [℃]  \n",
    "\n",
    "\n",
    "である。"
   ]
  },
  {
   "cell_type": "markdown",
   "metadata": {},
   "source": [
    "式（3）を整理して、$\\Delta x \\rightarrow 0$とすれば、式（4）の微分方程式を得る。"
   ]
  },
  {
   "cell_type": "markdown",
   "metadata": {
    "collapsed": true
   },
   "source": [
    "$$\n",
    "\\begin{align*}  \n",
    "     \\mbox{式（3）}&\\Leftrightarrow \\displaystyle -\\frac{c \\rho V }{l_{W}} \\frac{\\theta_{f, \\left( x \\right)} - \\theta_{f, \\left( x  - \\Delta x \\right)}}{\\Delta x} = \\frac{1}{R_{a,u}} \\left( \\theta_{f} - \\theta_{s,u} \\right) + \\frac{1}{R_{a,d}} \\left( \\theta_{f} - \\theta_{s,d} \\right) \\\\  \n",
    "    &\\Leftrightarrow \\displaystyle -\\frac{c \\rho V }{l_{W}} \\frac{d \\theta_{f}}{dx} = \\frac{1}{R_{a,u}} \\left( \\theta_{f} - \\theta_{s,u} \\right) + \\frac{1}{R_{a,d}} \\left( \\theta_{f} - \\theta_{s,d} \\right)\n",
    "\\end{align*}\n",
    "$$\n",
    "<div style=\"text-align: right;\"> (4) </div>"
   ]
  },
  {
   "cell_type": "markdown",
   "metadata": {},
   "source": [
    "集熱体の熱媒流路側の表面温度 $\\theta_{s,u}$および断熱材の熱媒流路側の表面温度$\\theta_{s,d}$は、式（1）、式（2）から式（5）、式（6）で与えらえる。"
   ]
  },
  {
   "cell_type": "markdown",
   "metadata": {},
   "source": [
    "* 集熱体の熱媒流路側の表面温度：  "
   ]
  },
  {
   "cell_type": "markdown",
   "metadata": {},
   "source": [
    "$$\n",
    "\\begin{align*} \n",
    "    \\mbox{式（1）} \\Leftrightarrow \\theta_{s,u}  = \\frac {\\displaystyle \\frac{\\theta_{a,u}}{R_{s,u}} + \\tau \\alpha I_{s} + \\frac{\\theta_{f}}{R_{a,u}}}{\\displaystyle \\frac{1}{R_{s,u}} +  \\frac{1}{R_{a,u}}} = \\displaystyle \\frac{R_{s,u}}{R_{s,u} + R_{a,u}} \\theta_{f} + \\frac{R_{a,u} R_{s,u} \\tau \\alpha I_{s} + R_{a,u} \\theta_{a,u}}{R_{s,u} + R_{a,u}}\n",
    "\\end{align*}\n",
    "$$\n",
    "<div style=\"text-align: right;\"> (5) </div>"
   ]
  },
  {
   "cell_type": "markdown",
   "metadata": {},
   "source": [
    "* 断熱材の熱媒流路側の表面温度：  "
   ]
  },
  {
   "cell_type": "markdown",
   "metadata": {},
   "source": [
    "$$\n",
    "\\begin{align*}\n",
    "    \\mbox{式（2）} \\Leftrightarrow \\theta_{s,d} = \\frac {\\displaystyle \\frac{\\theta_{f}}{R_{a,d}} + \\frac{\\theta_{a,d}}{R_{s,d}}}{\\displaystyle \\frac{1}{R_{s,d}} +  \\frac{1}{R_{a,d}}} = \\displaystyle \\frac{R_{s,d}}{R_{s,d} + R_{a,d}} \\theta_{f} + \\frac{R_{a,d} \\theta_{a,d}}{R_{s,d} + R_{a,d}} \n",
    "\\end{align*}\n",
    "$$\n",
    "<div style=\"text-align: right;\"> (6) </div>"
   ]
  },
  {
   "cell_type": "markdown",
   "metadata": {},
   "source": [
    "式（4）に式（5）および式（6）を代入して、$\\theta_{f}$について整理すると式（7）を得る。"
   ]
  },
  {
   "cell_type": "markdown",
   "metadata": {},
   "source": [
    "$$\n",
    "\\begin{align*}\n",
    "    \\displaystyle -\\frac{c \\rho V }{l_{W}} \\frac{d \\theta_{f}}{dx} &= \\displaystyle \\frac{1}{R_{a,u}} \\left( \\theta_{f} - \\frac{R_{s,u}}{R_{s,u} + R_{a,u}} \\theta_{f} - \\frac{R_{a,u} R_{s,u} \\tau \\alpha I_{s} + R_{a,u} \\theta_{a,u}}{R_{s,u} + R_{a,u}} \\right) + \\frac{1}{R_{a,d}} \\left( \\theta_{f} - \\frac{R_{s,d}}{R_{s,d} + R_{a,d}} \\theta_{f} - \\frac{R_{a,d} \\theta_{a,d}}{R_{s,d} + R_{a,d}} \\right) \\\\\n",
    "    \\Leftrightarrow \\displaystyle -\\frac{c \\rho V}{l_{W}} \\frac{d \\theta_{f}}{dx} &= \\displaystyle \\left( \\frac{1}{R_{s,u} + R_{a,u}} + \\frac{1}{R_{s,d} + R_{a,d}} \\right) \\theta_{f} - \\left( \\frac{\\theta_{a,u} + \\tau \\alpha I_{s} R_{s,u}}{R_{s,u} + R_{a,u}} + \\frac{\\theta_{a,d}}{R_{a,d} + R_{s,d}} \\right)\n",
    "\\end{align*}  \n",
    "$$\n",
    "<div style=\"text-align: right;\"> (7) </div>"
   ]
  },
  {
   "cell_type": "markdown",
   "metadata": {},
   "source": [
    "式（7）において、$\\theta_{a,u} = \\theta_{a,d} =\\theta_{ex}$、$\\displaystyle \\frac{1}{R_{s,u} + R_{a,u}} + \\frac{1}{R_{s,d} + R_{a,d}} = U_{c}$とすると式（8）を得る。"
   ]
  },
  {
   "cell_type": "markdown",
   "metadata": {},
   "source": [
    "$$\n",
    "\\begin{align*}\n",
    "    \\displaystyle -\\frac{c \\rho V }{l_{W}} \\frac{d \\theta_{f}}{dx} = U_{c} \\theta_{f} - \\left( U_{c} \\theta_{ex} + \\frac{R_{s,u}}{R_{s,u} + R_{a,u}} \\tau \\alpha I_{s}  \\right) \\\\\n",
    "    \\Leftrightarrow \\displaystyle \\frac{d \\theta_{f}}{\\theta_{f} - \\left( \\theta_{ex} + \\displaystyle \\frac{R_{s,u}}{R_{s,u} + R_{a,u}} \\frac{\\tau \\alpha I_{s}}{U_{c}} \\right)} = \\displaystyle -  \\frac{U_{c} l_{W}}{c \\rho V} dx\n",
    "\\end{align*}\n",
    "$$\n",
    "<div style=\"text-align: right;\"> (8) </div>"
   ]
  },
  {
   "cell_type": "markdown",
   "metadata": {},
   "source": [
    "![fig2.png](fig2.png)"
   ]
  },
  {
   "cell_type": "markdown",
   "metadata": {},
   "source": [
    "ここで、  \n",
    "\n",
    "\n",
    "$\\theta_{ex}$：外気温度 [℃]  \n",
    "$U_{c}$：総合熱損失係数 [W/(m<sup>2</sup>・K)]  \n",
    "\n",
    "\n",
    "である。"
   ]
  },
  {
   "cell_type": "markdown",
   "metadata": {},
   "source": [
    "式（8）を辺々積分して整理すると、式（9）を得る。"
   ]
  },
  {
   "cell_type": "markdown",
   "metadata": {},
   "source": [
    "$$\n",
    "\\begin{align*}\n",
    "    \\displaystyle \\int \\frac{d \\theta_{f}}{\\theta_{f} - \\left( \\theta_{ex} + \\displaystyle \\frac{R_{s,u}}{R_{s,u} + R_{a,u}} \\frac{\\tau \\alpha I_{s}}{U_{c}} \\right)} &= \\displaystyle - \\int \\frac{U_{c} l_{W}}{c \\rho V} dx \\\\\n",
    "    \\Leftrightarrow \\theta_{f} - \\left( \\theta_{ex} + \\displaystyle \\frac{R_{s,u}}{R_{s,u} + R_{a,u}} \\frac{\\tau \\alpha I_{s}}{U_{c}} \\right) &= D e^{- \\displaystyle  \\frac{U_{c} l_{W}}{c \\rho V} x} \n",
    "\\end{align*}\n",
    "$$\n",
    "<div style=\"text-align: right;\"> (9) </div>"
   ]
  },
  {
   "cell_type": "markdown",
   "metadata": {},
   "source": [
    "ここで、  \n",
    "\n",
    "\n",
    "$D$：積分定数 [-]  \n",
    "$x$：熱媒流路の始点（集熱器入口）からの距離 [m]  \n",
    "\n",
    "である。"
   ]
  },
  {
   "cell_type": "markdown",
   "metadata": {},
   "source": [
    "熱媒流路の始点（集熱器入口）、すなわち$x=0$における集熱媒体の温度を$\\theta_{f, {\\textit in}}$とすると、積分定数$D$は、式（10）で与えられる。"
   ]
  },
  {
   "cell_type": "markdown",
   "metadata": {},
   "source": [
    "$$\n",
    "\\begin{align*}\n",
    "    D = \\theta_{f,{\\textit in}} - \\displaystyle \\left( \\theta_{ex} + \\frac{R_{s,u}}{R_{s,u} + R_{a,u}} \\frac{\\tau \\alpha I_{s}}{U_{c}}\\right)\n",
    "\\end{align*}\n",
    "$$\n",
    "<div style=\"text-align: right;\"> (10) </div>"
   ]
  },
  {
   "cell_type": "markdown",
   "metadata": {},
   "source": [
    "ここで、  \n",
    "\n",
    "$\\theta_{f,{\\textit in}}$：熱媒流路の始点（集熱器入口）における集熱媒体の温度 [℃]  \n",
    "\n",
    "\n",
    "である。"
   ]
  },
  {
   "cell_type": "markdown",
   "metadata": {},
   "source": [
    "式（9）に式（10）を代入すると、式（11）を得る。"
   ]
  },
  {
   "cell_type": "markdown",
   "metadata": {},
   "source": [
    "$$\n",
    "\\begin{align*}    \n",
    "    \\theta_{f} = \\left( \\theta_{ex} + \\displaystyle \\frac{R_{s,u}}{R_{s,u} + R_{a,u}} \\frac{\\tau \\alpha I_{s}}{U_{c}} \\right) + \\left\\{ \\theta_{f,{\\textit in}} - \\displaystyle \\left( \\theta_{ex} + \\frac{R_{s,u}}{R_{s,u} + R_{a,u}} \\frac{\\tau \\alpha I_{s}}{U_{c}}\\right) \\right\\}  e^{- \\displaystyle \\frac{U_{c} l_{W}}{c \\rho V} x}\n",
    "\\end{align*}\n",
    "$$\n",
    "<div style=\"text-align: right;\"> (11) </div>"
   ]
  },
  {
   "cell_type": "markdown",
   "metadata": {},
   "source": [
    "従って、熱媒流路の終点（集熱器出口）における集熱媒体の温度は、始点（集熱器入口）から終点（集熱器出口）までの距離を$x = l_{D}$とすれば、式（12）で与えられる。"
   ]
  },
  {
   "cell_type": "markdown",
   "metadata": {},
   "source": [
    "$$\n",
    "\\begin{align*}    \n",
    "    \\theta_{f,out} &= \\left( \\theta_{ex} + \\displaystyle \\frac{R_{s,u}}{R_{s,u} + R_{a,u}} \\frac{\\tau \\alpha I_{s}}{U_{c}} \\right) + \\left\\{ \\theta_{f, {\\textit in}} - \\displaystyle \\left( \\theta_{ex} + \\frac{R_{s,u}}{R_{s,u} + R_{a,u}} \\frac{\\tau \\alpha I_{s}}{U_{c}}\\right) \\right\\}  e^{- \\displaystyle \\frac{U_{c} l_{W}}{c \\rho V} l_{D}} \\\\\n",
    "    &= \\left( \\theta_{ex} + \\displaystyle \\frac{R_{s,u}}{R_{s,u} + R_{a,u}} \\frac{\\tau \\alpha I_{s}}{U_{c}} \\right) + \\left\\{ \\theta_{f,{\\textit in}} - \\displaystyle \\left( \\theta_{ex} + \\frac{R_{s,u}}{R_{s,u} + R_{a,u}} \\frac{\\tau \\alpha I_{s}}{U_{c}} \\right) \\right\\}  e^{- \\displaystyle \\frac{U_{c} A}{c \\rho V}} \\hspace{20pt} \\left( \\because A = l_{W} \\times l_{D} \\right)\n",
    "\\end{align*}    \n",
    "$$\n",
    "<div style=\"text-align: right;\"> (12) </div>"
   ]
  },
  {
   "cell_type": "markdown",
   "metadata": {},
   "source": [
    "ここで、  \n",
    "\n",
    "\n",
    "$A$：集熱面積 [m<sup>2</sup>]  \n",
    "$\\theta_{f,out}$：熱媒流路の終点（集熱器出口）における集熱媒体の温度 [℃]  \n",
    "$l_{D}$：熱媒流路の始点（集熱器入口）から終点（集熱器出口）までの距離 [m]  \n",
    "\n",
    "\n",
    "である。"
   ]
  },
  {
   "cell_type": "markdown",
   "metadata": {},
   "source": [
    "## 2.　JIS集熱性能試験に基づく算定式パラメータの導出"
   ]
  },
  {
   "cell_type": "markdown",
   "metadata": {},
   "source": [
    "式（12）により集熱器出口における空気温度を算定する場合、集熱器の様々な特性値が必要となるが、これらを直接的に取得することは難しい。ここでは、JIS集熱性能試験により得られる集熱効率特性曲線（一次式）との対応付けを行うことで式（12）による算定を可能とする。"
   ]
  },
  {
   "cell_type": "markdown",
   "metadata": {},
   "source": [
    "JIS集熱性能試験では、集熱器入口と集熱器出口における空気温度の差から集熱量を評価している。"
   ]
  },
  {
   "cell_type": "markdown",
   "metadata": {},
   "source": [
    "$$\n",
    "\\begin{align*}    \n",
    "    Q = c \\rho V_{test} \\left( \\theta_{f,out} - \\theta_{f,{\\textit in}} \\right)\n",
    "\\end{align*}  \n",
    "$$\n",
    "<div style=\"text-align: right;\"> (13) </div>"
   ]
  },
  {
   "cell_type": "markdown",
   "metadata": {},
   "source": [
    "ここで、  \n",
    "\n",
    "\n",
    "$Q$：集熱量 [W]  \n",
    "$V_{test}$：JIS集熱性能試験時における集熱媒体の流量  [m<sup>3</sup>/s]  \n",
    "\n",
    "\n",
    "である。"
   ]
  },
  {
   "cell_type": "markdown",
   "metadata": {},
   "source": [
    "式（12）を式（13）に代入して整理すると、式（14）を得る。"
   ]
  },
  {
   "cell_type": "markdown",
   "metadata": {},
   "source": [
    "$$\n",
    "\\begin{align*}\n",
    "    Q &= c \\rho V_{test} \\left[ \\left( \\theta_{ex} + \\displaystyle \\frac{R_{s,u}}{R_{s,u} + R_{a,u}} \\frac{\\tau \\alpha I_{s}}{U_{c}} \\right) + \\left\\{ \\theta_{f,{\\textit in}} - \\displaystyle \\left( \\theta_{ex} + \\frac{R_{s,u}}{R_{s,u} + R_{a,u}} \\frac{\\tau \\alpha I_{s}}{U_{c}}\\right) \\right\\}  e^{- \\displaystyle \\frac{U_{c} A_{test}}{c \\rho V_{test}}} - \\theta_{f,{\\textit in}} \\right] \\\\\n",
    "    &= c \\rho V_{test} \\left\\{ \\left( \\theta_{ex} + \\displaystyle \\frac{R_{s,u}}{R_{s,u} + R_{a,u}} \\frac{\\tau \\alpha I_{s}}{U_{c}} \\right) \\left(1 - e^{-  \\displaystyle \\frac{U_{c} A_{test}}{c \\rho V_{test}}} \\right)　- \\theta_{f,{\\textit in}} \\left(1 - e^{-  \\displaystyle \\frac{U_{c} A_{test}}{c \\rho V_{test}}} \\right) \\right\\} \\\\\n",
    "    &= c \\rho V_{test} \\left(  \\theta_{ex} + \\displaystyle \\frac{R_{s,u}}{R_{s,u} + R_{a,u}} \\frac{\\tau \\alpha I_{s}}{U_{c}} - \\theta_{f,{\\textit in}} \\right) \\left(1 - e^{-  \\displaystyle \\frac{U_{c} A_{test}}{c \\rho V_{test}}} \\right)\n",
    "\\end{align*}\n",
    "$$\n",
    "<div style=\"text-align: right;\"> (14) </div>"
   ]
  },
  {
   "cell_type": "markdown",
   "metadata": {},
   "source": [
    "ここで、  \n",
    "\n",
    "\n",
    "$A_{test}$：JIS集熱性能試験時における集熱器総面積 [m<sup>2</sup>]   \n",
    "\n",
    "\n",
    "である。"
   ]
  },
  {
   "cell_type": "markdown",
   "metadata": {},
   "source": [
    "JIS集熱性能試験では、瞬時集熱効率は式（15）で定義される。"
   ]
  },
  {
   "cell_type": "markdown",
   "metadata": {},
   "source": [
    "$$\n",
    "\\begin{align*}\n",
    "    \\eta = \\displaystyle \\frac{Q}{A_{test} I_{s}}\n",
    "\\end{align*}\n",
    "$$\n",
    "<div style=\"text-align: right;\"> (15) </div>"
   ]
  },
  {
   "cell_type": "markdown",
   "metadata": {},
   "source": [
    "ここで、  \n",
    "\n",
    "  \n",
    "$\\eta$：瞬時集熱効率 [-]  \n",
    "\n",
    "\n",
    "である。"
   ]
  },
  {
   "cell_type": "markdown",
   "metadata": {},
   "source": [
    "式（15）に式（14）を代入して整理すると、式（16）を得る。"
   ]
  },
  {
   "cell_type": "markdown",
   "metadata": {},
   "source": [
    "$$\n",
    "\\begin{align*}\n",
    "    \\eta = \\displaystyle c \\rho V_{test} \\frac{R_{s,u}}{R_{s,u} + R_{a,u}} \\frac{\\tau \\alpha}{U_{c} A_{test}} \\left(1 - e^{- \\displaystyle \\frac{U_{c} A_{test}}{c \\rho V_{test}}} \\right) - \\frac{c \\rho V_{test}}{A_{test}} \\left(1 - e^{- \\displaystyle \\frac{U_{c} A_{test}}{c \\rho V_{test}}} \\right) \\frac{\\theta_{f,{\\textit in}} - \\theta_{ex}}{I_{s}}\n",
    "\\end{align*}\n",
    "$$\n",
    "<div style=\"text-align: right;\"> (16) </div>"
   ]
  },
  {
   "cell_type": "markdown",
   "metadata": {},
   "source": [
    "JIS集熱性能試験では、集熱効率の関係式（集熱効率特性）は$\\displaystyle \\frac{\\theta_{f,{\\textit in}}- \\theta_{ex}}{I_{s}}$を変数として式（17）で定義される。"
   ]
  },
  {
   "cell_type": "markdown",
   "metadata": {},
   "source": [
    "$$\n",
    "\\begin{align*}\n",
    "    \\eta = d_{0}- d_{1} \\displaystyle \\frac{\\theta_{f,{\\textit in}} - \\theta_{ex}}{I_{s}}\n",
    "\\end{align*}\n",
    "$$\n",
    "<div style=\"text-align: right;\"> (17) </div>"
   ]
  },
  {
   "cell_type": "markdown",
   "metadata": {},
   "source": [
    "ここで、  \n",
    "\n",
    "\n",
    "$d_{0}$：集熱効率特性線図一次近似式の切片 [-]  \n",
    "$d_{1}$：集熱効率特性線図一次近似式の傾き [W/(m<sup>2</sup>・K)]  \n",
    "\n",
    "\n",
    "である。"
   ]
  },
  {
   "cell_type": "markdown",
   "metadata": {},
   "source": [
    "式（16）と式（17）との対応から、$d_{0}$、$d_{1}$は式（18）、式（19）で与えられる。"
   ]
  },
  {
   "cell_type": "markdown",
   "metadata": {},
   "source": [
    "$$\n",
    "\\begin{align*}\n",
    "    d_{0} = \\displaystyle c \\rho V_{test} \\frac{R_{s,u}}{R_{s,u} + R_{a,u}} \\frac{\\tau \\alpha}{U_{c} A_{test}} \\left(1 - e^{-  \\displaystyle \\frac{U_{c} A_{test}}{c \\rho V_{test}}} \\right)  \n",
    "\\end{align*}\n",
    "$$\n",
    "<div style=\"text-align: right;\"> (18) </div>"
   ]
  },
  {
   "cell_type": "markdown",
   "metadata": {},
   "source": [
    "$$\n",
    "\\begin{align*}\n",
    "    d_{1} = \\displaystyle \\frac{c \\rho V_{test}}{A_{test}} \\left(1 - e^{-  \\displaystyle \\frac{U_{c} A_{test}}{c \\rho V_{test}}} \\right) \n",
    "\\end{align*}\n",
    "$$\n",
    "<div style=\"text-align: right;\"> (19) </div>"
   ]
  },
  {
   "cell_type": "markdown",
   "metadata": {},
   "source": [
    "従って、式（12）中の項は式（20）、式（21）で与えられる。"
   ]
  },
  {
   "cell_type": "markdown",
   "metadata": {},
   "source": [
    "$$\n",
    "\\begin{align*}\n",
    "    \\displaystyle \\frac{R_{s,u}}{R_{s,u}+R_{a,u}} \\frac{\\tau \\alpha}{U_{c}} = \\frac{d_{0}}{d_{1}}\n",
    "\\end{align*}\n",
    "$$\n",
    "<div style=\"text-align: right;\"> (20) </div>"
   ]
  },
  {
   "cell_type": "markdown",
   "metadata": {},
   "source": [
    "$$\n",
    "\\begin{align*}\n",
    "    U_{c} = \\displaystyle - \\frac{c \\rho V_{test}}{A_{test}} ln \\left( 1 - \\displaystyle \\frac{A_{test}}{c \\rho V_{test}} d_{1} \\right) \n",
    "\\end{align*}\n",
    "$$\n",
    "<div style=\"text-align: right;\"> (21) </div>"
   ]
  },
  {
   "cell_type": "markdown",
   "metadata": {},
   "source": [
    "ただし、JIS集熱特性試験では、集熱媒体の流量は単位集熱面積当たりの質量流量として測定される。式（21）を単位集熱面積当たりの質量流量により表現すれば式（22）となる。"
   ]
  },
  {
   "cell_type": "markdown",
   "metadata": {},
   "source": [
    "$$\n",
    "\\begin{align*}\n",
    "    U_{c} = \\displaystyle - c \\dot{m}_{test} ln \\left( 1 - \\displaystyle \\frac{1}{c \\dot{m}_{test}} d_{1} \\right)\n",
    "\\end{align*}\n",
    "$$\n",
    "<div style=\"text-align: right;\"> (22) </div>"
   ]
  },
  {
   "cell_type": "markdown",
   "metadata": {},
   "source": [
    "ここで、  \n",
    "\n",
    "\n",
    "$\\dot{m}_{test}$：JIS集熱性能試験時における集熱媒体の単位集熱面積当たりの質量流量 [g/(m<sup>2</sup>・s)]   \n",
    "\n",
    "\n",
    "である。"
   ]
  },
  {
   "cell_type": "markdown",
   "metadata": {},
   "source": [
    "式（20）および式（22）を式（12）に代入して整理すると、集熱器出口における空気温度は式（23）で与えられる。"
   ]
  },
  {
   "cell_type": "markdown",
   "metadata": {},
   "source": [
    "$$\n",
    "\\begin{align*}\n",
    "    \\theta_{f,out} = \\left( \\theta_{ex} + \\displaystyle \\frac{d_{0}}{d_{1}} I_{s} \\right) + \\left\\{ \\theta_{f,{\\textit in}} - \\displaystyle \\left( \\theta_{ex} + \\displaystyle \\frac{d_{0}}{d_{1}} I_{s} \\right) \\right\\} e^{\\displaystyle \\frac{A}{\\rho V} \\dot{m}_{test} ln \\left( 1 - \\displaystyle \\frac{1}{c \\dot{m}_{test}} d_{1} \\right)} \n",
    "\\end{align*}\n",
    "$$\n",
    "<div style=\"text-align: right;\"> (23) </div>"
   ]
  },
  {
   "cell_type": "markdown",
   "metadata": {},
   "source": [
    "すなわち、JIS集熱性能試験により得られる、集熱効率特性線図一次近似式の切片$d_{0}$、集熱効率特性線図一次近似式の傾き$d_{1}$、集熱媒体の流量$\\dot{m}_{test}$、当該住戸に設置されるシステムの集熱器群の面積$A$、集熱ファンの風量$V$、集熱面日射強度$I_{s}、$空気の比熱$c$を与えると、式（23）により集熱器出口における空気温度を算出することができる。"
   ]
  },
  {
   "cell_type": "markdown",
   "metadata": {},
   "source": [
    "## 3.　集熱時の集熱器の出口における空気温度の上限"
   ]
  },
  {
   "cell_type": "markdown",
   "metadata": {},
   "source": [
    "集熱器の出口における空気温度の上限は、式（12）において集熱面積を無限大とした時の値に等しい。"
   ]
  },
  {
   "cell_type": "markdown",
   "metadata": {},
   "source": [
    "$$\n",
    "\\begin{align*}\n",
    "    \\theta_{f,lim} &=\n",
    "\\displaystyle \\lim _{A \\to \\infty }\\left[ \\left( \\theta_{ex} + \\displaystyle \\frac{R_{s,u}}{R_{s,u} + R_{a,u}} \\frac{\\tau \\alpha I_{s}}{U_{c}} \\right) + \\left\\{ \\theta_{f,{\\textit in}} - \\displaystyle \\left( \\theta_{ex} + \\frac{R_{s,u}}{R_{s,u} + R_{a,u}} \\frac{\\tau \\alpha I_{s}}{U_{c}} \\right) \\right\\}  e^{- \\displaystyle \\frac{U_{c} A}{c \\rho V}} \\right] \\\\\n",
    "    &= \\theta_{ex} + \\displaystyle \\frac{R_{s,u}}{R_{s,u} + R_{a,u}} \\frac{\\tau \\alpha I_{s}}{U_{c}} \\\\\n",
    "    &= \\theta_{ex} + \\displaystyle \\frac{d_{0}}{d_{1}} I_{s}\n",
    "\\end{align*}\n",
    "$$\n",
    "<div style=\"text-align: right;\"> (24) </div>"
   ]
  },
  {
   "cell_type": "markdown",
   "metadata": {},
   "source": [
    "ここで、  \n",
    "\n",
    "\n",
    "$\\theta_{f,lim}$：集熱器の出口における空気温度の上限 [℃]  \n",
    "\n",
    "\n",
    "である。"
   ]
  },
  {
   "cell_type": "markdown",
   "metadata": {},
   "source": [
    "なお、式（23）は式（24）を用いて表現すれば式（25）となる。"
   ]
  },
  {
   "cell_type": "markdown",
   "metadata": {},
   "source": [
    "$$\n",
    "\\begin{align*}\n",
    "    \\theta_{f,out} = \\theta_{f,lim} + \\left( \\theta_{f,{\\textit in}} - \\theta_{f,lim} \\right) e^{\\displaystyle \\frac{A}{\\rho V} \\dot{m}_{test} ln \\left( 1 - \\displaystyle \\frac{1}{c \\dot{m}_{test}} d_{1} \\right)}\n",
    "\\end{align*}\n",
    "$$\n",
    "<div style=\"text-align: right;\"> (25) </div>"
   ]
  }
 ],
 "metadata": {
  "kernelspec": {
   "display_name": "Python 3",
   "language": "python",
   "name": "python3"
  },
  "language_info": {
   "codemirror_mode": {
    "name": "ipython",
    "version": 3
   },
   "file_extension": ".py",
   "mimetype": "text/x-python",
   "name": "python",
   "nbconvert_exporter": "python",
   "pygments_lexer": "ipython3",
   "version": "3.6.1"
  }
 },
 "nbformat": 4,
 "nbformat_minor": 2
}
